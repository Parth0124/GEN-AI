{
 "cells": [
  {
   "cell_type": "code",
   "execution_count": 1,
   "metadata": {},
   "outputs": [],
   "source": [
    "import os\n",
    "from dotenv import load_dotenv\n",
    "load_dotenv()\n",
    "\n",
    "os.environ['OPENAI_API_KEY'] = os.getenv('OPENAI_API_KEY')\n",
    "os.environ['LANGCHAIN_API_KEY'] = os.getenv('LANGCHAIN_API_KEY')\n",
    "os.environ['LANGCHAIN_TRACING_V2'] = 'true'\n",
    "os.environ['LANGCHAIN_PROJECT'] = os.getenv('LANGCHAIN_PROJECT')"
   ]
  },
  {
   "cell_type": "code",
   "execution_count": 5,
   "metadata": {},
   "outputs": [],
   "source": [
    "from langchain_openai import ChatOpenAI\n",
    "llm = ChatOpenAI(model='gpt-4o')\n"
   ]
  },
  {
   "cell_type": "code",
   "execution_count": 6,
   "metadata": {},
   "outputs": [
    {
     "name": "stdout",
     "output_type": "stream",
     "text": [
      "client=<openai.resources.chat.completions.Completions object at 0x1162b6980> async_client=<openai.resources.chat.completions.AsyncCompletions object at 0x116296920> root_client=<openai.OpenAI object at 0x1162b7520> root_async_client=<openai.AsyncOpenAI object at 0x1162b4d90> model_name='gpt-4o' model_kwargs={} openai_api_key=SecretStr('**********')\n"
     ]
    }
   ],
   "source": [
    "print(llm)"
   ]
  },
  {
   "cell_type": "code",
   "execution_count": 8,
   "metadata": {},
   "outputs": [],
   "source": [
    "result = llm.invoke(\"What is generative ai?\")"
   ]
  },
  {
   "cell_type": "code",
   "execution_count": 9,
   "metadata": {},
   "outputs": [
    {
     "name": "stdout",
     "output_type": "stream",
     "text": [
      "content='Generative AI refers to a subset of artificial intelligence technologies focused on generating new content or data that mimics the properties of existing data. It uses machine learning models, particularly neural networks, to produce text, images, audio, and other forms of content. Unlike traditional AI, which typically analyzes or classifies existing data, generative AI creates new data that maintains the patterns and structures of the input data it was trained on.\\n\\nKey technologies and models in generative AI include:\\n\\n1. **Generative Adversarial Networks (GANs):** These consist of two neural networks, a generator and a discriminator, that work against each other. The generator creates new data instances, while the discriminator evaluates them for authenticity. Through this adversarial process, GANs can produce highly realistic images and other types of data.\\n\\n2. **Variational Autoencoders (VAEs):** These models encode input data into a compressed representation and then decode it back into data. They are used for generating new data instances that are similar to the training data.\\n\\n3. **Transformer Models:** Used primarily for text generation, models like GPT (Generative Pre-trained Transformer) and BERT (Bidirectional Encoder Representations from Transformers) have revolutionized natural language processing by enabling the creation of coherent and contextually relevant text.\\n\\nGenerative AI has numerous applications, including:\\n\\n- **Text Generation:** Producing human-like text for chatbots, content creation, and more.\\n- **Image and Video Synthesis:** Creating realistic images or videos for art, entertainment, and simulation.\\n- **Music and Audio Generation:** Composing music or generating sound effects.\\n- **Drug Discovery:** Designing new molecules with desired properties.\\n\\nWhile generative AI offers exciting possibilities, it also poses challenges, such as ethical concerns over deepfakes, intellectual property issues, and the potential for misuse in creating misleading or harmful content.' additional_kwargs={'refusal': None} response_metadata={'token_usage': {'completion_tokens': 376, 'prompt_tokens': 13, 'total_tokens': 389, 'completion_tokens_details': {'accepted_prediction_tokens': 0, 'audio_tokens': 0, 'reasoning_tokens': 0, 'rejected_prediction_tokens': 0}, 'prompt_tokens_details': {'audio_tokens': 0, 'cached_tokens': 0}}, 'model_name': 'gpt-4o-2024-08-06', 'system_fingerprint': 'fp_5f20662549', 'finish_reason': 'stop', 'logprobs': None} id='run-81aa0c14-eb3f-4b63-a9a6-ff131b68834d-0' usage_metadata={'input_tokens': 13, 'output_tokens': 376, 'total_tokens': 389, 'input_token_details': {'audio': 0, 'cache_read': 0}, 'output_token_details': {'audio': 0, 'reasoning': 0}}\n"
     ]
    }
   ],
   "source": [
    "print(result)"
   ]
  },
  {
   "cell_type": "code",
   "execution_count": 10,
   "metadata": {},
   "outputs": [
    {
     "data": {
      "text/plain": [
       "'Generative AI refers to a subset of artificial intelligence technologies focused on generating new content or data that mimics the properties of existing data. It uses machine learning models, particularly neural networks, to produce text, images, audio, and other forms of content. Unlike traditional AI, which typically analyzes or classifies existing data, generative AI creates new data that maintains the patterns and structures of the input data it was trained on.\\n\\nKey technologies and models in generative AI include:\\n\\n1. **Generative Adversarial Networks (GANs):** These consist of two neural networks, a generator and a discriminator, that work against each other. The generator creates new data instances, while the discriminator evaluates them for authenticity. Through this adversarial process, GANs can produce highly realistic images and other types of data.\\n\\n2. **Variational Autoencoders (VAEs):** These models encode input data into a compressed representation and then decode it back into data. They are used for generating new data instances that are similar to the training data.\\n\\n3. **Transformer Models:** Used primarily for text generation, models like GPT (Generative Pre-trained Transformer) and BERT (Bidirectional Encoder Representations from Transformers) have revolutionized natural language processing by enabling the creation of coherent and contextually relevant text.\\n\\nGenerative AI has numerous applications, including:\\n\\n- **Text Generation:** Producing human-like text for chatbots, content creation, and more.\\n- **Image and Video Synthesis:** Creating realistic images or videos for art, entertainment, and simulation.\\n- **Music and Audio Generation:** Composing music or generating sound effects.\\n- **Drug Discovery:** Designing new molecules with desired properties.\\n\\nWhile generative AI offers exciting possibilities, it also poses challenges, such as ethical concerns over deepfakes, intellectual property issues, and the potential for misuse in creating misleading or harmful content.'"
      ]
     },
     "execution_count": 10,
     "metadata": {},
     "output_type": "execute_result"
    }
   ],
   "source": [
    "result.content"
   ]
  },
  {
   "cell_type": "code",
   "execution_count": 11,
   "metadata": {},
   "outputs": [],
   "source": [
    "## Chatprompt templates\n",
    "\n",
    "from langchain_core.prompts import ChatPromptTemplate"
   ]
  },
  {
   "cell_type": "code",
   "execution_count": 12,
   "metadata": {},
   "outputs": [
    {
     "data": {
      "text/plain": [
       "ChatPromptTemplate(input_variables=['input'], input_types={}, partial_variables={}, messages=[SystemMessagePromptTemplate(prompt=PromptTemplate(input_variables=[], input_types={}, partial_variables={}, template='You are an expert AI engineer. Provide me answers based on the question'), additional_kwargs={}), HumanMessagePromptTemplate(prompt=PromptTemplate(input_variables=['input'], input_types={}, partial_variables={}, template='{input}'), additional_kwargs={})])"
      ]
     },
     "execution_count": 12,
     "metadata": {},
     "output_type": "execute_result"
    }
   ],
   "source": [
    "prompt = ChatPromptTemplate.from_messages(\n",
    "    [\n",
    "        (\"system\", \"You are an expert AI engineer. Provide me answers based on the question\"),\n",
    "        (\"user\", \"{input}\")\n",
    "    ]\n",
    ")\n",
    "prompt"
   ]
  },
  {
   "cell_type": "code",
   "execution_count": 14,
   "metadata": {},
   "outputs": [
    {
     "name": "stdout",
     "output_type": "stream",
     "text": [
      "content=\"Certainly! American politics is characterized by a federal system of government, which means that power is divided between a central national government and individual state governments. The United States operates as a constitutional republic and a representative democracy. Here are some key aspects:\\n\\n1. **Branches of Government**: \\n   - The U.S. government is divided into three branches: the Executive, the Legislative, and the Judicial.\\n   - The Executive Branch is headed by the President, who serves as both the head of state and government.\\n   - The Legislative Branch, or Congress, is bicameral, consisting of the Senate and the House of Representatives.\\n   - The Judicial Branch is led by the Supreme Court, which interprets the Constitution and laws.\\n\\n2. **Political Parties**: \\n   - The two major political parties are the Democratic Party and the Republican Party.\\n   - There are also several smaller parties, often referred to as third parties, such as the Libertarian Party and the Green Party.\\n\\n3. **Elections**:\\n   - Presidential elections occur every four years, with voters electing the President and Vice President.\\n   - Congressional elections are held every two years, with all House seats and approximately one-third of Senate seats up for election.\\n   - Midterm elections occur halfway through a president's four-year term and can significantly impact the balance of power in Congress.\\n\\n4. **Federalism**:\\n   - States have significant power and autonomy, with their own governments and constitutions.\\n   - State governments mirror the federal structure with executive, legislative, and judicial branches.\\n\\n5. **Checks and Balances**:\\n   - The system of checks and balances ensures no one branch becomes too powerful. Each branch has some measure of influence over the other branches and may choose to block procedures of the other branches.\\n\\n6. **Current Issues**:\\n   - As of 2023, American politics is dealing with issues like healthcare, immigration, climate change, economic policy, and social justice.\\n   - Polarization between the parties remains a significant challenge, affecting legislative productivity and public discourse.\\n\\n7. **Public Participation**:\\n   - Citizens participate in politics through voting, advocacy, and by running for office.\\n   - Elections are a fundamental aspect of democratic engagement in the U.S.\\n\\nUnderstanding American politics requires keeping up with current events, as political dynamics can shift rapidly with new developments both domestically and internationally.\" additional_kwargs={'refusal': None} response_metadata={'token_usage': {'completion_tokens': 481, 'prompt_tokens': 33, 'total_tokens': 514, 'completion_tokens_details': {'accepted_prediction_tokens': 0, 'audio_tokens': 0, 'reasoning_tokens': 0, 'rejected_prediction_tokens': 0}, 'prompt_tokens_details': {'audio_tokens': 0, 'cached_tokens': 0}}, 'model_name': 'gpt-4o-2024-08-06', 'system_fingerprint': 'fp_d28bcae782', 'finish_reason': 'stop', 'logprobs': None} id='run-507b5bae-56dd-4ab6-8960-27e59d9ff1d4-0' usage_metadata={'input_tokens': 33, 'output_tokens': 481, 'total_tokens': 514, 'input_token_details': {'audio': 0, 'cache_read': 0}, 'output_token_details': {'audio': 0, 'reasoning': 0}}\n"
     ]
    }
   ],
   "source": [
    "chain = prompt|llm\n",
    "\n",
    "response = chain.invoke({\"input\":\"Can you tell me about American politics?\"})\n",
    "print(response)"
   ]
  },
  {
   "cell_type": "code",
   "execution_count": 15,
   "metadata": {},
   "outputs": [
    {
     "data": {
      "text/plain": [
       "langchain_core.messages.ai.AIMessage"
      ]
     },
     "execution_count": 15,
     "metadata": {},
     "output_type": "execute_result"
    }
   ],
   "source": [
    "type(response)"
   ]
  },
  {
   "cell_type": "code",
   "execution_count": 16,
   "metadata": {},
   "outputs": [
    {
     "name": "stdout",
     "output_type": "stream",
     "text": [
      "Certainly! American politics is a complex and dynamic system characterized by a federal government structure, political parties, and a range of political ideologies. Here are some key aspects:\n",
      "\n",
      "1. **Federal Government Structure**: The United States has a federal system of government, meaning power is divided between the national government and individual states. The federal government is composed of three branches:\n",
      "   - **Legislative Branch**: Made up of the two houses of Congress—the Senate and the House of Representatives. It is responsible for making laws.\n",
      "   - **Executive Branch**: Headed by the President, who acts as the head of state and government, implementing and enforcing laws.\n",
      "   - **Judicial Branch**: Consists of the Supreme Court and other federal courts, interpreting laws and their constitutionality.\n",
      "\n",
      "2. **Political Parties**: The U.S. primarily operates under a two-party system:\n",
      "   - **Democratic Party**: Generally associated with more liberal and progressive policies, advocating for social equality, environmental protection, and government involvement in economic regulation.\n",
      "   - **Republican Party**: Typically associated with conservative policies, emphasizing limited government, individual liberties, and free-market principles.\n",
      "\n",
      "3. **Elections**: Key features of the American electoral system include:\n",
      "   - **Presidential Elections**: Held every four years, using an Electoral College system where each state, based on its population, contributes a certain number of electoral votes.\n",
      "   - **Congressional Elections**: Senate terms are six years with staggered elections, while House of Representatives members serve two-year terms.\n",
      "   - **State and Local Elections**: States and localities have their own elections, which can include gubernatorial, state legislative, and various local positions.\n",
      "\n",
      "4. **Political Ideologies**: American politics encompasses a range of ideologies beyond just liberal and conservative, including libertarianism, socialism, and centrism, each influencing policy debates and voter preferences.\n",
      "\n",
      "5. **Current Issues**: Key issues in American politics often include healthcare, immigration, taxation, climate change, civil rights, and foreign policy, among others.\n",
      "\n",
      "6. **Influence of Interest Groups and Lobbying**: Various interest groups and lobbyists play significant roles in shaping policy and legislation by advocating for specific causes or industries.\n",
      "\n",
      "7. **Media and Public Opinion**: Media outlets and public opinion greatly influence political discourse, with social media becoming increasingly significant in shaping political narratives and mobilizing voters.\n",
      "\n",
      "Overall, American politics is marked by a combination of historical traditions, evolving policies, and dynamic public discourse, reflecting the diverse views of its population.\n"
     ]
    }
   ],
   "source": [
    "## String output parser\n",
    "\n",
    "from langchain_core.output_parsers import StrOutputParser\n",
    "output_parser = StrOutputParser()\n",
    "chain = prompt|llm|output_parser\n",
    "\n",
    "response = chain.invoke({\"input\":\"Can you tell me about American politics?\"})\n",
    "print(response)"
   ]
  }
 ],
 "metadata": {
  "kernelspec": {
   "display_name": "Python 3",
   "language": "python",
   "name": "python3"
  },
  "language_info": {
   "codemirror_mode": {
    "name": "ipython",
    "version": 3
   },
   "file_extension": ".py",
   "mimetype": "text/x-python",
   "name": "python",
   "nbconvert_exporter": "python",
   "pygments_lexer": "ipython3",
   "version": "3.10.0"
  }
 },
 "nbformat": 4,
 "nbformat_minor": 2
}
